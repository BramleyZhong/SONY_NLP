{
 "cells": [
  {
   "cell_type": "code",
   "execution_count": 1,
   "id": "447a0c05",
   "metadata": {},
   "outputs": [],
   "source": [
    "import pandas as pd"
   ]
  },
  {
   "cell_type": "code",
   "execution_count": 25,
   "id": "17082041",
   "metadata": {},
   "outputs": [],
   "source": [
    "string = 'Sony KD-55X80K 55\" 4K UHD Android LED TV'\n",
    "substring = 'KD-55X80K'"
   ]
  },
  {
   "cell_type": "code",
   "execution_count": 20,
   "id": "8950cd24",
   "metadata": {},
   "outputs": [
    {
     "data": {
      "text/plain": [
       "5"
      ]
     },
     "execution_count": 20,
     "metadata": {},
     "output_type": "execute_result"
    }
   ],
   "source": [
    "string.find('KD-55X80K')"
   ]
  },
  {
   "cell_type": "code",
   "execution_count": 11,
   "id": "8387861c",
   "metadata": {},
   "outputs": [
    {
     "data": {
      "text/plain": [
       "9"
      ]
     },
     "execution_count": 11,
     "metadata": {},
     "output_type": "execute_result"
    }
   ],
   "source": [
    "len('A55CU8000')"
   ]
  },
  {
   "cell_type": "code",
   "execution_count": 9,
   "id": "03bc3332",
   "metadata": {},
   "outputs": [],
   "source": [
    "def find_substring_indices(main_string, substring):\n",
    "    start_index = main_string.find(substring)\n",
    "    end_index = start_index + len(substring)\n",
    "    return (start_index, end_index, \"MODEL\")"
   ]
  },
  {
   "cell_type": "code",
   "execution_count": 26,
   "id": "c7554314",
   "metadata": {},
   "outputs": [
    {
     "data": {
      "text/plain": [
       "(5, 14, 'MODEL')"
      ]
     },
     "execution_count": 26,
     "metadata": {},
     "output_type": "execute_result"
    }
   ],
   "source": [
    "find_substring_indices(string, substring)"
   ]
  },
  {
   "cell_type": "code",
   "execution_count": 17,
   "id": "79d54cb8",
   "metadata": {},
   "outputs": [
    {
     "data": {
      "text/plain": [
       "'KD-50X80J/S'"
      ]
     },
     "execution_count": 17,
     "metadata": {},
     "output_type": "execute_result"
    }
   ],
   "source": [
    "string[29:40]"
   ]
  },
  {
   "cell_type": "code",
   "execution_count": 29,
   "id": "c40269c4",
   "metadata": {},
   "outputs": [
    {
     "data": {
      "text/plain": [
       "True"
      ]
     },
     "execution_count": 29,
     "metadata": {},
     "output_type": "execute_result"
    }
   ],
   "source": [
    "substring in string"
   ]
  },
  {
   "cell_type": "code",
   "execution_count": null,
   "id": "10c448ac",
   "metadata": {},
   "outputs": [],
   "source": []
  }
 ],
 "metadata": {
  "kernelspec": {
   "display_name": "Python 3 (ipykernel)",
   "language": "python",
   "name": "python3"
  },
  "language_info": {
   "codemirror_mode": {
    "name": "ipython",
    "version": 3
   },
   "file_extension": ".py",
   "mimetype": "text/x-python",
   "name": "python",
   "nbconvert_exporter": "python",
   "pygments_lexer": "ipython3",
   "version": "3.11.4"
  }
 },
 "nbformat": 4,
 "nbformat_minor": 5
}
